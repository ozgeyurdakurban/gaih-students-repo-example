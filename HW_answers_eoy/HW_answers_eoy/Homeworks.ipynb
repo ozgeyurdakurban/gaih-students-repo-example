{
 "cells": [
  {
   "cell_type": "code",
   "execution_count": 2,
   "metadata": {},
   "outputs": [
    {
     "name": "stdout",
     "output_type": "stream",
     "text": [
      "['student_1', 'student_2', 'student_3', 'student_4', 1, 2, 3, ['x', 4]]\n",
      "[['x', 4], 3, 2, 1, 'student_4', 'student_3', 'student_2', 'student_1']\n"
     ]
    }
   ],
   "source": [
    "#Day_2:\n",
    "\n",
    "\"\"\"\n",
    "1.Create a List \n",
    "and swap the second half of the list with the first half of the list \n",
    "and print this list on the screen.\n",
    "\n",
    "\"\"\"\n",
    "\n",
    "list1 = [\"student_1\",\"student_2\",\"student_3\",\"student_4\",1,2,3,['x',4]]\n",
    "print(list1)\n",
    "\n",
    "list1.reverse()\n",
    " \n",
    "#list1[: 4] = list1[-4 :]\n",
    "\n",
    "\n",
    "print(list1)\n"
   ]
  },
  {
   "cell_type": "code",
   "execution_count": 32,
   "metadata": {},
   "outputs": [
    {
     "name": "stdout",
     "output_type": "stream",
     "text": [
      "Please enter a single-digit integer: 8\n",
      "[0, 2, 4, 6, 8]\n"
     ]
    }
   ],
   "source": [
    "#Day_2:\n",
    "\n",
    "\"\"\"\n",
    "2.Ask the user to input a single digit integer to a variable 'n'. \n",
    "Then, print out all of the even numbers from 0 to n (including n).\n",
    "\n",
    "\"\"\"\n",
    "\n",
    "n = int(input(\"Please enter a single-digit integer: \"))\n",
    "\n",
    "numbers = range(n+1)\n",
    "evens=list(filter(lambda i:i%2==0, numbers))\n",
    "print(evens)\n",
    "\n",
    "\n",
    "\n",
    "if n>9:\n",
    "    raise Exception (\"Single-digit!\")\n",
    "elif n<0:\n",
    "    raise Exception (\"Positive integer!\")\n",
    "    \n"
   ]
  },
  {
   "cell_type": "code",
   "execution_count": 23,
   "metadata": {},
   "outputs": [
    {
     "name": "stdout",
     "output_type": "stream",
     "text": [
      "Please enter username? Ahmet\n",
      "Please enter password? qwert\n",
      "Incorrect!\n"
     ]
    }
   ],
   "source": [
    "#Day_3:\n",
    "\n",
    "\"\"\"\n",
    "User login application:\n",
    "    - Get Username and Password values from the user.\n",
    "    - Check the values in an if statement and tell the user if they were successful.\n",
    "\n",
    "\"\"\"\n",
    "\n",
    "\n",
    "users=[\"Ahmet\",\"Mehmet\",\"Ayşe\"]\n",
    "passwords=[\"qwerty\"]\n",
    "\n",
    "username=input('Please enter username? ')\n",
    "password=input('Please enter password? ')\n",
    "\n",
    "if username in users and password in passwords:\n",
    "    print('Succesfully login!')\n",
    "else:\n",
    "    print('Incorrect!')\n",
    "\n"
   ]
  },
  {
   "cell_type": "code",
   "execution_count": 61,
   "metadata": {},
   "outputs": [
    {
     "name": "stdout",
     "output_type": "stream",
     "text": [
      "Please enter username? Ahmet\n",
      "Please enter password? 111\n",
      "Succesfully login!\n"
     ]
    }
   ],
   "source": [
    "#Day_3:\n",
    "\n",
    "\"\"\"\n",
    "Extra:\n",
    "    - Try building tha same user login application but this time, use a dictionary.\n",
    "    \n",
    "\"\"\"\n",
    "\n",
    "\n",
    "dic = {\"Ahmet\":\"111\",\"Mehmet\":\"222\",\"Ayşe\":\"333\"}\n",
    "\n",
    "username=input('Please enter username? ')\n",
    "password=input('Please enter password? ')\n",
    "\n",
    "for k, v in dic.items():\n",
    "    if username == k and password == v: \n",
    "        print('Succesfully login!')\n",
    "    elif username != k or password != v:\n",
    "        print('Unsuccesfully login!')\n",
    "    break\n"
   ]
  },
  {
   "cell_type": "code",
   "execution_count": null,
   "metadata": {
    "scrolled": true
   },
   "outputs": [],
   "source": [
    "#Day_4\n",
    "\n",
    "\"\"\"\n",
    "Course Grade Application:\n",
    "    - Create 5 students. Ask these students from the user.\n",
    "    - Each of these students should have a midterm grade, project grade, and final grade.\n",
    "    - Each student will have a course passing grade.\n",
    "    - passingGrade=midterm*(0.3)+project*(0.3)+final*(0.4) passing grade should be determined like this.\n",
    "    - Create a dictionary that keeps these students' information.\n",
    "    - Calculate the students' grades and transfer them to the list with the help of indexing.\n",
    "    - Finally, set the students with the highest grade to be in the first index and the student with the lowest grade to be in the last index of the list.\n",
    "\"\"\"\n",
    "\n",
    "students_list=[]\n",
    "users=[\"Ahmet\",\"Mehmet\",\"Ayşe\",\"Fatma\",\"Ali\"]\n",
    "\n",
    "while len(users)>0:\n",
    "    name=input(\"Please enter your name:  \")\n",
    "    # \\n Attention! All information can be entered only once.\n",
    "    \n",
    "    if name in users:\n",
    "        student_dict={}\n",
    "        student_dict[\"name\"]=name\n",
    "        try:\n",
    "            name = str(name)  \n",
    "            print(\"Hello {}!\".format(name))\n",
    "            \n",
    "            ID=str(input(\"Please enter your student ID:  \"))\n",
    "            ms=int(input(\"Please enter your midterm score:  \"))\n",
    "            ps=int(input(\"Please enter your project score:  \"))\n",
    "            fs=int(input(\"Please enter your final score:  \"))\n",
    "            pg = int(ms*0.3 + ps*0.3 + fs*0.4) \n",
    "            \n",
    "            student_dict[\"ID\"]=ID\n",
    "            student_dict[\"midterm_score\"]=ms\n",
    "            student_dict[\"project_score\"]=ps\n",
    "            student_dict[\"final_score\"]=fs\n",
    "            student_dict[\"passing_grade\"]=pg\n",
    "            \n",
    "            students_list.append(student_dict)\n",
    "            users.remove(name)\n",
    "            \n",
    "            print(name)\n",
    "            print(\"Your total score:  \", student_dict[\"passing_grade\"])\n",
    "            print(users)\n",
    "            print(student_dict)\n",
    "            \n",
    "            print(\"The original dictionary (list with dictionary) is : \" + str(students_list))\n",
    "            print (\"The dictionary printed sorting by passing grade: \")\n",
    "            print (sorted(students_list, key = lambda i: i['passing_grade'], reverse=True))\n",
    "            \n",
    "        except (ValueError, TypeError):\n",
    "            print(\"Please enter valid information!\")\n",
    "               \n",
    "    else:\n",
    "        print(\"The name is not registered in this course.\")\n",
    "break\n"
   ]
  },
  {
   "cell_type": "code",
   "execution_count": null,
   "metadata": {},
   "outputs": [],
   "source": [
    "dd"
   ]
  }
 ],
 "metadata": {
  "kernelspec": {
   "display_name": "Python 3",
   "language": "python",
   "name": "python3"
  },
  "language_info": {
   "codemirror_mode": {
    "name": "ipython",
    "version": 3
   },
   "file_extension": ".py",
   "mimetype": "text/x-python",
   "name": "python",
   "nbconvert_exporter": "python",
   "pygments_lexer": "ipython3",
   "version": "3.8.5"
  }
 },
 "nbformat": 4,
 "nbformat_minor": 4
}
