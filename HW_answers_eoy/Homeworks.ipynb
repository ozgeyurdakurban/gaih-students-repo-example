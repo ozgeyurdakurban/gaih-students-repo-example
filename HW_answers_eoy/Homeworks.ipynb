{
 "cells": [
  {
   "cell_type": "code",
   "execution_count": 2,
   "metadata": {},
   "outputs": [
    {
     "name": "stdout",
     "output_type": "stream",
     "text": [
      "['student_1', 'student_2', 'student_3', 'student_4', 1, 2, 3, ['x', 4]]\n",
      "[['x', 4], 3, 2, 1, 'student_4', 'student_3', 'student_2', 'student_1']\n"
     ]
    }
   ],
   "source": [
    "#Day_2:\n",
    "\n",
    "\"\"\"\n",
    "1.Create a List \n",
    "and swap the second half of the list with the first half of the list \n",
    "and print this list on the screen.\n",
    "\n",
    "\"\"\"\n",
    "\n",
    "list1 = [\"student_1\",\"student_2\",\"student_3\",\"student_4\",1,2,3,['x',4]]\n",
    "print(list1)\n",
    "\n",
    "list1.reverse()\n",
    " \n",
    "#list1[: 4] = list1[-4 :]\n",
    "\n",
    "\n",
    "print(list1)\n"
   ]
  },
  {
   "cell_type": "code",
   "execution_count": 32,
   "metadata": {},
   "outputs": [
    {
     "name": "stdout",
     "output_type": "stream",
     "text": [
      "Please enter a single-digit integer: 8\n",
      "[0, 2, 4, 6, 8]\n"
     ]
    }
   ],
   "source": [
    "#Day_2:\n",
    "\n",
    "\"\"\"\n",
    "2.Ask the user to input a single digit integer to a variable 'n'. \n",
    "Then, print out all of the even numbers from 0 to n (including n).\n",
    "\n",
    "\"\"\"\n",
    "\n",
    "n = int(input(\"Please enter a single-digit integer: \"))\n",
    "\n",
    "numbers = range(n+1)\n",
    "evens=list(filter(lambda i:i%2==0, numbers))\n",
    "print(evens)\n",
    "\n",
    "if n>9:\n",
    "    raise Exception (\"Single-digit!\")\n",
    "elif n<0:\n",
    "    raise Exception (\"Positive integer!\")\n",
    "    \n"
   ]
  },
  {
   "cell_type": "code",
   "execution_count": 23,
   "metadata": {},
   "outputs": [
    {
     "name": "stdout",
     "output_type": "stream",
     "text": [
      "Please enter username? Ahmet\n",
      "Please enter password? qwert\n",
      "Incorrect!\n"
     ]
    }
   ],
   "source": [
    "#Day_3:\n",
    "\n",
    "\"\"\"\n",
    "User login application:\n",
    "    - Get Username and Password values from the user.\n",
    "    - Check the values in an if statement and tell the user if they were successful.\n",
    "\n",
    "\"\"\"\n",
    "\n",
    "\n",
    "users=[\"Ahmet\",\"Mehmet\",\"Ayşe\"]\n",
    "passwords=[\"qwerty\"]\n",
    "\n",
    "username=input('Please enter username? ')\n",
    "password=input('Please enter password? ')\n",
    "\n",
    "if username in users and password in passwords:\n",
    "    print('Succesfully login!')\n",
    "else:\n",
    "    print('Incorrect!')\n",
    "\n"
   ]
  },
  {
   "cell_type": "code",
   "execution_count": 61,
   "metadata": {},
   "outputs": [
    {
     "name": "stdout",
     "output_type": "stream",
     "text": [
      "Please enter username? Ahmet\n",
      "Please enter password? 111\n",
      "Succesfully login!\n"
     ]
    }
   ],
   "source": [
    "#Day_3:\n",
    "\n",
    "\"\"\"\n",
    "Extra:\n",
    "    - Try building tha same user login application but this time, use a dictionary.\n",
    "    \n",
    "\"\"\"\n",
    "\n",
    "\n",
    "dic = {\"Ahmet\":\"111\",\"Mehmet\":\"222\",\"Ayşe\":\"333\"}\n",
    "\n",
    "username=input('Please enter username? ')\n",
    "password=input('Please enter password? ')\n",
    "\n",
    "for k, v in dic.items():\n",
    "    if username == k and password == v: \n",
    "        print('Succesfully login!')\n",
    "    elif username != k or password != v:\n",
    "        print('Unsuccesfully login!')\n",
    "    break\n"
   ]
  },
  {
   "cell_type": "code",
   "execution_count": null,
   "metadata": {
    "scrolled": true
   },
   "outputs": [],
   "source": [
    "#Day_4\n",
    "\n",
    "\"\"\"\n",
    "Course Grade Application:\n",
    "    - Create 5 students. Ask these students from the user.\n",
    "    - Each of these students should have a midterm grade, project grade, and final grade.\n",
    "    - Each student will have a course passing grade.\n",
    "    - passingGrade=midterm*(0.3)+project*(0.3)+final*(0.4) passing grade should be determined like this.\n",
    "    - Create a dictionary that keeps these students' information.\n",
    "    - Calculate the students' grades and transfer them to the list with the help of indexing.\n",
    "    - Finally, set the students with the highest grade to be in the first index and the student with the lowest grade to be in the last index of the list.\n",
    "\"\"\"\n",
    "\n",
    "dic={\"Ahmet\":\n",
    "     {\"ID\":str(),\"midterm_score\":0,\"project_score\":0,\"final_score\":0},\n",
    "     \"Mehmet\":\n",
    "     {\"ID\":str(),\"midterm_score\":0,\"project_score\":0,\"final_score\":0},\n",
    "     \"Ayşe\":\n",
    "     {\"ID\":str(),\"midterm_score\":0,\"project_score\":0,\"final_score\":0},\n",
    "     \"Fatma\":\n",
    "     {\"ID\":str(),\"midterm_score\":0,\"project_score\":0,\"final_score\":0},\n",
    "     \"Ali\":\n",
    "     {\"ID\":str(),\"midterm_score\":0,\"project_score\":0,\"final_score\":0}\n",
    "    }\n",
    "\n",
    "\n",
    "while True:\n",
    "    for key,value in dic.items():\n",
    "        name=input(\"Please enter your name:  \")\n",
    "        if name in dic.keys():\n",
    "            print(\"Hello {}!\".format(name))\n",
    "            ID=str(input(\"Please enter your student ID:  \"))\n",
    "            ms=int(input(\"Please enter your midterm score:  \"))\n",
    "            ps=int(input(\"Please enter your project score:  \"))\n",
    "            fs=int(input(\"Please enter your final score:  \"))            \n",
    "            pg = int(ms*0.3 + ps*0.3 + fs*0.4)\n",
    "            \n",
    "            try:\n",
    "                name = str(name)\n",
    "                ID = str(ID)\n",
    "                ms = int(ms)\n",
    "                ps = int(ps)\n",
    "                fs = int(fs)\n",
    "        \n",
    "            except (ValueError,IndexError,ZeroDivisionError):\n",
    "                print(\"Please enter valid information!\")\n",
    "            \n",
    "            dic[name][\"ID\"]+=ID\n",
    "            dic[name][\"midterm_score\"]+=ms\n",
    "            dic[name][\"project_score\"]+=ps\n",
    "            dic[name][\"final_score\"]+=fs\n",
    "            dic[name][\"passingGrade\"] =+ pg\n",
    "            print(dic[name])\n",
    "            print(\"Your total score:  \", dic[name][\"passingGrade\"])\n",
    "        else:\n",
    "            print(\"The name is not registered in this course.\")\n",
    "    break    \n",
    "      \n",
    "print(dic)\n",
    "print(dic.items())\n",
    "\n",
    "for key,value in dic.items():\n",
    "    list1 = list(dic[name][\"passingGrade\"])\n",
    "    print(sort.list1)\n"
   ]
  },
  {
   "cell_type": "code",
   "execution_count": null,
   "metadata": {},
   "outputs": [],
   "source": [
    "#Final_project\n",
    "\n",
    "\"\"\"\n",
    "Knowledge competition:\n",
    "    - Write a knowledge competition program.\n",
    "    - It should consist of 10 questions in total.\n",
    "    - Each question will have only one answer.\n",
    "    - Adjust the answers of the questions according to case sensitivity.\n",
    "    - Each question should be worth 10 points.\n",
    "    - If User answers 5 or fewer questions, it will be considered unsuccessful.\n",
    "    - If the user answers more than 5 questions correctly, it will be considered successful.\n",
    "\"\"\"\n",
    "\n",
    "\n",
    "# Questions for the fundamental of economics (econ291 or econ294):\n",
    "\n",
    "class Question:\n",
    "    def __init__(self, prompt, answer):\n",
    "        self.prompt = prompt\n",
    "        self.answer = answer\n",
    "\n",
    "question_prompts = [\n",
    "    \"1 - Which of the following is the basic characteristic of Oligopoly? \\n(a) 'a few sellers, one buyer '\\n(b)'a few sellers, many buyers'\",'\\n'\n",
    "    \"2 - Which of the following is used to denote broad money??\\n(a) 'M1'\\n(b)'M3'\",'\\n'\n",
    "    \"3 - The best indicator of economic development of any country is ?\\n (a) 'Its gross production'\\n (b) 'Its per capita income'\", '\\n'\n",
    "    \"4 - The increase in oil seeds production was due to ?\\n (a) 'Yellow revolution'\\n (b) 'Green revolution'\", '\\n'\n",
    "    \"5 - With which aspect of commerce are ‘Bulls and Bears’ associated?\\n (a) 'Stock Exchange market'\\n (b) 'Foreign Trade'\", '\\n'\n",
    "    \"6 - National income is the\\n (a) 'Net National Product at Market price'\\n (b) 'Net domestic product at market price'\", '\\n'\n",
    "    \"7 - When was the International Monetary Fund (IMF) established?\\n (a) '1944'\\n (b) '1950'\", '\\n'\n",
    "    \"8 - Decision taken at Bretton Woods Conference led to the formation of\\n (a) 'IMF'\\n (b) 'ADB'\", '\\n'\n",
    "    \"9 - Which of the following best defines a floating-rate bond?\\n (a) 'A bond with a fixed interest rate and has lower yield than varying interest rate bond'\\n (b) 'A bond with a varying interest rate and has lower yield than fixed interest rate bond'\", '\\n'\n",
    "    \"10 - Inflation Indexed of Consumers is pegged to ___?\\n (a) 'WPI'\\n (b) 'CPI'\", '\\n'\n",
    "                  ]\n",
    "name = input(\"Please enter your name: \").title()\n",
    "questions = [\n",
    "    Question(question_prompts[0], \"b\"),\n",
    "    Question(question_prompts[1], \"b\"),\n",
    "    Question(question_prompts[2], \"b\"),\n",
    "    Question(question_prompts[3], \"a\"),\n",
    "    Question(question_prompts[4], \"a\"),\n",
    "    Question(question_prompts[5], \"b\"),\n",
    "    Question(question_prompts[6], \"a\"),\n",
    "    Question(question_prompts[7], \"a\"),\n",
    "    Question(question_prompts[8], \"a\"),\n",
    "    Question(question_prompts[9], \"b\")\n",
    "              ]\n",
    "def run_quiz(questions):\n",
    "    score = 0\n",
    "    for question in questions:\n",
    "        answer = input(question.prompt)\n",
    "        if answer == question.answer:\n",
    "            score += 10\n",
    "            print(\"\\n{0}, Your scored {1} out of {2}.\".format(name, score, len(questions)))\n",
    "            #print(\"Great job! \" if score > 50  else \"You failed\")\n",
    "            \n",
    "run_quiz(questions)\n"
   ]
  },
  {
   "cell_type": "code",
   "execution_count": null,
   "metadata": {},
   "outputs": [],
   "source": []
  },
  {
   "cell_type": "code",
   "execution_count": null,
   "metadata": {},
   "outputs": [],
   "source": []
  },
  {
   "cell_type": "code",
   "execution_count": null,
   "metadata": {},
   "outputs": [],
   "source": []
  },
  {
   "cell_type": "code",
   "execution_count": null,
   "metadata": {},
   "outputs": [],
   "source": []
  }
 ],
 "metadata": {
  "kernelspec": {
   "display_name": "Python 3",
   "language": "python",
   "name": "python3"
  },
  "language_info": {
   "codemirror_mode": {
    "name": "ipython",
    "version": 3
   },
   "file_extension": ".py",
   "mimetype": "text/x-python",
   "name": "python",
   "nbconvert_exporter": "python",
   "pygments_lexer": "ipython3",
   "version": "3.8.5"
  }
 },
 "nbformat": 4,
 "nbformat_minor": 4
}
