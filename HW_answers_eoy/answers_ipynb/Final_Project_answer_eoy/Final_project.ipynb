{
 "cells": [
  {
   "cell_type": "code",
   "execution_count": null,
   "metadata": {},
   "outputs": [],
   "source": [
    "#Final_project\n",
    "\n",
    "\"\"\"\n",
    "Knowledge competition:\n",
    "    - Write a knowledge competition program.\n",
    "    - It should consist of 10 questions in total.\n",
    "    - Each question will have only one answer.\n",
    "    - Adjust the answers of the questions according to case sensitivity.\n",
    "    - Each question should be worth 10 points.\n",
    "    - If User answers 5 or fewer questions, it will be considered unsuccessful.\n",
    "    - If the user answers more than 5 questions correctly, it will be considered successful.\n",
    "\"\"\"\n",
    "\n",
    "\n",
    "# Questions for the fundamental of economics (econ291 or econ294):\n",
    "\n",
    "class Question:\n",
    "    def __init__(self, prompt, answer):\n",
    "        self.prompt = prompt\n",
    "        self.answer = answer\n",
    "\n",
    "question_prompts = [\n",
    "    \"1 - Which of the following is the basic characteristic of Oligopoly? \\n(a) 'a few sellers, one buyer '\\n(b)'a few sellers, many buyers'\",'\\n'\n",
    "    \"2 - Which of the following is used to denote broad money??\\n(a) 'M1'\\n(b)'M3'\",'\\n'\n",
    "    \"3 - The best indicator of economic development of any country is ?\\n (a) 'Its gross production'\\n (b) 'Its per capita income'\", '\\n'\n",
    "    \"4 - The increase in oil seeds production was due to ?\\n (a) 'Yellow revolution'\\n (b) 'Green revolution'\", '\\n'\n",
    "    \"5 - With which aspect of commerce are ‘Bulls and Bears’ associated?\\n (a) 'Stock Exchange market'\\n (b) 'Foreign Trade'\", '\\n'\n",
    "    \"6 - National income is the\\n (a) 'Net National Product at Market price'\\n (b) 'Net domestic product at market price'\", '\\n'\n",
    "    \"7 - When was the International Monetary Fund (IMF) established?\\n (a) '1944'\\n (b) '1950'\", '\\n'\n",
    "    \"8 - Decision taken at Bretton Woods Conference led to the formation of\\n (a) 'IMF'\\n (b) 'ADB'\", '\\n'\n",
    "    \"9 - Which of the following best defines a floating-rate bond?\\n (a) 'A bond with a fixed interest rate and has lower yield than varying interest rate bond'\\n (b) 'A bond with a varying interest rate and has lower yield than fixed interest rate bond'\", '\\n'\n",
    "    \"10 - Inflation Indexed of Consumers is pegged to ___?\\n (a) 'WPI'\\n (b) 'CPI'\", '\\n'\n",
    "                  ]\n",
    "name = input(\"Please enter your name: \").title()\n",
    "questions = [\n",
    "    Question(question_prompts[0], \"b\"),\n",
    "    Question(question_prompts[1], \"b\"),\n",
    "    Question(question_prompts[2], \"b\"),\n",
    "    Question(question_prompts[3], \"a\"),\n",
    "    Question(question_prompts[4], \"a\"),\n",
    "    Question(question_prompts[5], \"b\"),\n",
    "    Question(question_prompts[6], \"a\"),\n",
    "    Question(question_prompts[7], \"a\"),\n",
    "    Question(question_prompts[8], \"a\"),\n",
    "    Question(question_prompts[9], \"b\")\n",
    "              ]\n",
    "def run_quiz(questions):\n",
    "    score = 0\n",
    "    for question in questions:\n",
    "        answer = input(question.prompt)\n",
    "        if answer == \"a\" or \"b\":\n",
    "            if answer == question.answer:\n",
    "                score += 10\n",
    "                print(\"\\n{}, Your scored {} in total {} questions.\".format(name, score, len(questions)))\n",
    "                print(\"Great job!\" if score > 50  else \"You failed :( \")\n",
    "        else:\n",
    "            print(\"Please select (a) or (b).\")\n",
    "            \n",
    "run_quiz(questions)\n"
   ]
  },
  {
   "cell_type": "code",
   "execution_count": null,
   "metadata": {},
   "outputs": [],
   "source": []
  }
 ],
 "metadata": {
  "kernelspec": {
   "display_name": "Python 3",
   "language": "python",
   "name": "python3"
  },
  "language_info": {
   "codemirror_mode": {
    "name": "ipython",
    "version": 3
   },
   "file_extension": ".py",
   "mimetype": "text/x-python",
   "name": "python",
   "nbconvert_exporter": "python",
   "pygments_lexer": "ipython3",
   "version": "3.8.5"
  }
 },
 "nbformat": 4,
 "nbformat_minor": 4
}
